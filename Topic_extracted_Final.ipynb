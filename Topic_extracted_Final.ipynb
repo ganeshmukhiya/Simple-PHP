{
  "nbformat": 4,
  "nbformat_minor": 0,
  "metadata": {
    "colab": {
      "provenance": [],
      "authorship_tag": "ABX9TyNMVfztUTs/w8TWTWhDAKTt",
      "include_colab_link": true
    },
    "kernelspec": {
      "name": "python3",
      "display_name": "Python 3"
    },
    "language_info": {
      "name": "python"
    }
  },
  "cells": [
    {
      "cell_type": "markdown",
      "metadata": {
        "id": "view-in-github",
        "colab_type": "text"
      },
      "source": [
        "<a href=\"https://colab.research.google.com/github/ganeshmukhiya/Simple-PHP/blob/master/Topic_extracted_Final.ipynb\" target=\"_parent\"><img src=\"https://colab.research.google.com/assets/colab-badge.svg\" alt=\"Open In Colab\"/></a>"
      ]
    },
    {
      "cell_type": "code",
      "execution_count": 3,
      "metadata": {
        "colab": {
          "base_uri": "https://localhost:8080/"
        },
        "id": "Heq_OPPzhbO0",
        "outputId": "436d051c-7cf1-40db-d45d-8d1086f3ee6d"
      },
      "outputs": [
        {
          "output_type": "stream",
          "name": "stdout",
          "text": [
            "Topic #1: don\n",
            "Topic #2: windows\n",
            "Topic #3: god\n",
            "Topic #4: geb\n",
            "Topic #5: key\n"
          ]
        }
      ],
      "source": [
        "import numpy as np\n",
        "from sklearn.datasets import fetch_20newsgroups\n",
        "from sklearn.feature_extraction.text import TfidfVectorizer\n",
        "from sklearn.decomposition import NMF\n",
        "\n",
        "# Fetch the data\n",
        "newsgroups_train = fetch_20newsgroups(subset='train', remove=('headers', 'footers', 'quotes'))\n",
        "\n",
        "# Vectorize the data using TF-IDF\n",
        "vectorizer = TfidfVectorizer(stop_words='english')\n",
        "X_train = vectorizer.fit_transform(newsgroups_train.data)\n",
        "\n",
        "# Set the number of topics\n",
        "n_topics = 5\n",
        "\n",
        "# Apply NMF\n",
        "nmf = NMF(n_components=n_topics, random_state=1)\n",
        "W_train = nmf.fit_transform(X_train)\n",
        "H = nmf.components_\n",
        "\n",
        "# Extract and display the latent topics with unique top words\n",
        "feature_names = vectorizer.get_feature_names_out()\n",
        "\n",
        "# Set to track the words that have already been used\n",
        "used_words = set()\n",
        "\n",
        "for topic_idx, topic in enumerate(H):\n",
        "    # Sort terms by their importance to the topic\n",
        "    sorted_indices = topic.argsort()[::-1]\n",
        "\n",
        "    # Find the first term that hasn't been used yet\n",
        "    top_term = None\n",
        "    for index in sorted_indices:\n",
        "        word = feature_names[index]\n",
        "        if word not in used_words:\n",
        "            top_term = word\n",
        "            used_words.add(word)\n",
        "            break\n",
        "\n",
        "    print(f\"Topic #{topic_idx+1}: {top_term}\")\n"
      ]
    },
    {
      "cell_type": "code",
      "source": [
        "import numpy as np\n",
        "from sklearn.datasets import fetch_20newsgroups\n",
        "from sklearn.feature_extraction.text import TfidfVectorizer\n",
        "from sklearn.decomposition import NMF\n",
        "\n",
        "# Fetch the data\n",
        "newsgroups_train = fetch_20newsgroups(subset='train', remove=('headers', 'footers', 'quotes'))\n",
        "\n",
        "# Vectorize the data using TF-IDF\n",
        "vectorizer = TfidfVectorizer(stop_words='english')\n",
        "X_train = vectorizer.fit_transform(newsgroups_train.data)\n",
        "\n",
        "# Set the number of topics\n",
        "n_topics = 5\n",
        "\n",
        "# Apply NMF\n",
        "nmf = NMF(n_components=n_topics, random_state=1)\n",
        "W_train = nmf.fit_transform(X_train)\n",
        "H = nmf.components_\n",
        "\n",
        "# Extract and display the latent topics with additional words associated with \"god\"\n",
        "feature_names = vectorizer.get_feature_names_out()\n",
        "\n",
        "# Set to track the words that have already been used\n",
        "used_words = set()\n",
        "\n",
        "for topic_idx, topic in enumerate(H):\n",
        "    # Sort terms by their importance to the topic\n",
        "    sorted_indices = topic.argsort()[::-1]\n",
        "\n",
        "    # Find the top term that hasn't been used yet\n",
        "    top_term = None\n",
        "    for index in sorted_indices:\n",
        "        word = feature_names[index]\n",
        "        if word not in used_words:\n",
        "            top_term = word\n",
        "            used_words.add(word)\n",
        "            break\n",
        "\n",
        "    # Display the topic and additional words if the top word is \"god\"\n",
        "    if top_term == \"god\":\n",
        "        additional_words = [feature_names[i] for i in sorted_indices[1:6]]  # Next top 5 terms\n",
        "        print(f\"Topic #{topic_idx+1}: {top_term} (Additional words: {', '.join(additional_words)})\")\n",
        "    else:\n",
        "        print(f\"Topic #{topic_idx+1}: {top_term}\")\n"
      ],
      "metadata": {
        "colab": {
          "base_uri": "https://localhost:8080/"
        },
        "id": "wbbESniom0bK",
        "outputId": "ed464b31-231f-4385-b67b-616a8e2ab9ed"
      },
      "execution_count": 4,
      "outputs": [
        {
          "output_type": "stream",
          "name": "stdout",
          "text": [
            "Topic #1: don\n",
            "Topic #2: windows\n",
            "Topic #3: god (Additional words: jesus, bible, believe, faith, christian)\n",
            "Topic #4: geb\n",
            "Topic #5: key\n"
          ]
        }
      ]
    }
  ]
}