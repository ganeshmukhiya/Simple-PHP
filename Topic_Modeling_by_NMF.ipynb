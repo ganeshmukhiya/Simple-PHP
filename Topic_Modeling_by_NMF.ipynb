{
  "nbformat": 4,
  "nbformat_minor": 0,
  "metadata": {
    "colab": {
      "provenance": [],
      "authorship_tag": "ABX9TyM0FhskMtjLhh5jDls8t1r9",
      "include_colab_link": true
    },
    "kernelspec": {
      "name": "python3",
      "display_name": "Python 3"
    },
    "language_info": {
      "name": "python"
    }
  },
  "cells": [
    {
      "cell_type": "markdown",
      "metadata": {
        "id": "view-in-github",
        "colab_type": "text"
      },
      "source": [
        "<a href=\"https://colab.research.google.com/github/ganeshmukhiya/Simple-PHP/blob/master/Topic_Modeling_by_NMF.ipynb\" target=\"_parent\"><img src=\"https://colab.research.google.com/assets/colab-badge.svg\" alt=\"Open In Colab\"/></a>"
      ]
    },
    {
      "cell_type": "code",
      "execution_count": 8,
      "metadata": {
        "id": "uBTzxLNEWk90"
      },
      "outputs": [],
      "source": []
    },
    {
      "cell_type": "code",
      "source": [
        "import numpy as np\n",
        "import matplotlib.pyplot as plt\n",
        "from sklearn.datasets import fetch_20newsgroups\n",
        "from sklearn.feature_extraction.text import TfidfVectorizer\n",
        "from sklearn.decomposition import NMF\n"
      ],
      "metadata": {
        "id": "hAWCvsd0X0Jr"
      },
      "execution_count": 2,
      "outputs": []
    },
    {
      "cell_type": "code",
      "source": [
        "# Load the dataset\n",
        "newsgroups = fetch_20newsgroups(subset='all', remove=('headers', 'footers', 'quotes'))\n",
        "\n",
        "# Display dataset information\n",
        "print(f\"Total number of documents: {len(newsgroups.data)}\")\n",
        "print(f\"Categories: {newsgroups.target_names}\")\n"
      ],
      "metadata": {
        "colab": {
          "base_uri": "https://localhost:8080/"
        },
        "id": "3uNWlVtqYYSL",
        "outputId": "5b84c514-9d48-4408-dad1-d3ea0afde201"
      },
      "execution_count": 3,
      "outputs": [
        {
          "output_type": "stream",
          "name": "stdout",
          "text": [
            "Total number of documents: 18846\n",
            "Categories: ['alt.atheism', 'comp.graphics', 'comp.os.ms-windows.misc', 'comp.sys.ibm.pc.hardware', 'comp.sys.mac.hardware', 'comp.windows.x', 'misc.forsale', 'rec.autos', 'rec.motorcycles', 'rec.sport.baseball', 'rec.sport.hockey', 'sci.crypt', 'sci.electronics', 'sci.med', 'sci.space', 'soc.religion.christian', 'talk.politics.guns', 'talk.politics.mideast', 'talk.politics.misc', 'talk.religion.misc']\n"
          ]
        }
      ]
    },
    {
      "cell_type": "code",
      "source": [
        "# Vectorize the dataset using TF-IDF\n",
        "vectorizer = TfidfVectorizer(max_df=0.95, min_df=2, stop_words='english')\n",
        "tfidf = vectorizer.fit_transform(newsgroups.data)\n",
        "\n",
        "# Display the shape of the TF-IDF matrix\n",
        "print(f\"Shape of TF-IDF matrix: {tfidf.shape}\")\n"
      ],
      "metadata": {
        "colab": {
          "base_uri": "https://localhost:8080/"
        },
        "id": "3ykmdQvcYmYI",
        "outputId": "54b4a5a1-3380-4bd1-8910-41c7a372a8c7"
      },
      "execution_count": 4,
      "outputs": [
        {
          "output_type": "stream",
          "name": "stdout",
          "text": [
            "Shape of TF-IDF matrix: (18846, 51840)\n"
          ]
        }
      ]
    },
    {
      "cell_type": "code",
      "source": [
        "# Set the number of topics\n",
        "n_topics = 20\n",
        "\n",
        "# Fit the NMF model\n",
        "nmf_model = NMF(n_components=n_topics, random_state=42)\n",
        "W = nmf_model.fit_transform(tfidf)\n",
        "H = nmf_model.components_\n",
        "\n",
        "# Display the shape of W and H matrices\n",
        "print(f\"Shape of W (document-topic matrix): {W.shape}\")\n",
        "print(f\"Shape of H (topic-term matrix): {H.shape}\")\n"
      ],
      "metadata": {
        "colab": {
          "base_uri": "https://localhost:8080/"
        },
        "id": "uR0PoidSY1RU",
        "outputId": "5abe6a18-62d6-4ddf-957b-d2601eebd160"
      },
      "execution_count": 11,
      "outputs": [
        {
          "output_type": "stream",
          "name": "stdout",
          "text": [
            "Shape of W (document-topic matrix): (18846, 20)\n",
            "Shape of H (topic-term matrix): (20, 51840)\n"
          ]
        }
      ]
    },
    {
      "cell_type": "code",
      "source": [
        "# Extract the feature names (words) from the TF-IDF vectorizer\n",
        "feature_names = vectorizer.get_feature_names_out()\n",
        "\n",
        "# Display the top words for each topic\n",
        "for topic_idx, topic in enumerate(H):\n",
        "    print(f\"Topic #{topic_idx + 1}:\")\n",
        "    print(\" \".join([feature_names[i] for i in topic.argsort()[:-11:-1]]))\n"
      ],
      "metadata": {
        "colab": {
          "base_uri": "https://localhost:8080/"
        },
        "id": "uSlmwmftY-h9",
        "outputId": "553cb4df-59a2-4c9c-b8e3-85c5c1342b1f"
      },
      "execution_count": 10,
      "outputs": [
        {
          "output_type": "stream",
          "name": "stdout",
          "text": [
            "Topic #1:\n",
            "don just people think like good know time did right\n",
            "Topic #2:\n",
            "windows thanks file dos program does know files mail use\n",
            "Topic #3:\n",
            "god jesus bible believe christ christian faith christians does sin\n",
            "Topic #4:\n",
            "drive scsi card ide disk hard controller drives bus floppy\n",
            "Topic #5:\n",
            "key chip encryption clipper government keys escrow use law algorithm\n"
          ]
        }
      ]
    },
    {
      "cell_type": "code",
      "source": [
        "# Select a random document from the dataset\n",
        "doc_id = np.random.randint(0, len(W))\n",
        "topic_distribution = W[doc_id]\n",
        "\n",
        "# Plot the topic distribution\n",
        "plt.bar(range(n_topics), topic_distribution)\n",
        "plt.xlabel('Topics')\n",
        "plt.ylabel('Topic Weight')\n",
        "plt.title(f'Topic Distribution for Document #{doc_id}')\n",
        "plt.show()\n"
      ],
      "metadata": {
        "colab": {
          "base_uri": "https://localhost:8080/",
          "height": 472
        },
        "id": "7gM1qJLGZeRf",
        "outputId": "e6409897-be54-4e72-aae3-3071a1c07f28"
      },
      "execution_count": 12,
      "outputs": [
        {
          "output_type": "display_data",
          "data": {
            "text/plain": [
              "<Figure size 640x480 with 1 Axes>"
            ],
            "image/png": "[encoded data removed]"
          },
          "metadata": {}
        }
      ]
    },
    {
      "cell_type": "code",
      "source": [
        "from sklearn.decomposition import LatentDirichletAllocation\n",
        "\n",
        "# Fit the LDA model\n",
        "lda_model = LatentDirichletAllocation(n_components=n_topics, random_state=42)\n",
        "lda_W = lda_model.fit_transform(tfidf)\n",
        "lda_H = lda_model.components_\n",
        "\n",
        "# Display the top words for each LDA topic\n",
        "for topic_idx, topic in enumerate(lda_H):\n",
        "    print(f\"LDA Topic #{topic_idx + 1}:\")\n",
        "    print(\" \".join([feature_names[i] for i in topic.argsort()[:-11:-1]]))\n"
      ],
      "metadata": {
        "colab": {
          "base_uri": "https://localhost:8080/"
        },
        "id": "YaUf33olZnCU",
        "outputId": "90279937-436f-48a0-9b42-d318952a4ca2"
      },
      "execution_count": 8,
      "outputs": [
        {
          "output_type": "stream",
          "name": "stdout",
          "text": [
            "LDA Topic #1:\n",
            "uv hm gm clint malarchuk freewill wk chemistry 517 hillary\n",
            "LDA Topic #2:\n",
            "windows thanks use drive card know does file program software\n",
            "LDA Topic #3:\n",
            "pluto atm lilley humanist grips duke manchester shims jupiter 200sx\n",
            "LDA Topic #4:\n",
            "pit ingr sas dtmedin catbyte b30 205 upenn easter ivy\n",
            "LDA Topic #5:\n",
            "key space launch chip algorithm des sci 11 april s1\n",
            "LDA Topic #6:\n",
            "people don just think like know time god good does\n",
            "LDA Topic #7:\n",
            "_____ w4wg imake com4 com3 gov winmarks __ autodesk chop\n",
            "LDA Topic #8:\n",
            "feustel test n9myi centaur ites cola jsc dickhead netcom hepatitis\n",
            "LDA Topic #9:\n",
            "ax nubus cview speedstar blaster projector c650 leftover turkey iivx\n",
            "LDA Topic #10:\n",
            "banks geb cadre chastity shameful n3jxp dsl skepticism intellect gordon\n"
          ]
        }
      ]
    }
  ]
}